{
 "cells": [
  {
   "cell_type": "markdown",
   "source": [
    "# Capstone Webscrapping using BeautifulSoup\r\n",
    "This notebook contains guidances & tasks on the data processing for the application\r\n",
    "\r\n",
    "## Background\r\n",
    "<p>In this project, we will collect Ethereum trading data from <a href='https://www.coingecko.com'>www.coingecko.com</a>. Data taken daily, includes market capitalization, trading volume, opening price, and closing price. From the existing data, we will create plot of trading volume to find out the trendline of ethereum trade.\r\n",
    "<p>Some libraries that will be used in this project is: <code>requests</code> to establish a connection with source web, <code>BeatifulSoup</code> to scrapping, and <code>Pandas</code> to create and process dataframes.\r\n",
    "\r\n",
    "## Requesting the Data and Creating a BeautifulSoup\r\n",
    "\r\n",
    "Let's begin with requesting the web from the site with `get` method."
   ],
   "metadata": {}
  },
  {
   "cell_type": "code",
   "execution_count": 1,
   "source": [
    "# Import requests library\r\n",
    "import requests\r\n",
    "\r\n",
    "# Make request to url to be scraped\r\n",
    "url_get = requests.get('https://www.coingecko.com/en/coins/ethereum/historical_data/usd?start_date=2020-01-01&end_date=2021-06-30#panel')"
   ],
   "outputs": [],
   "metadata": {
    "ExecuteTime": {
     "end_time": "2020-01-13T05:12:23.275508Z",
     "start_time": "2020-01-13T05:12:20.009898Z"
    }
   }
  },
  {
   "cell_type": "markdown",
   "source": [
    "To visualize what exactly you get from the `request.get`, we can use .content so ee what we exactly get, in here i slice it so it won't make our screen full of the html we get from the page. You can delete the slicing if you want to see what we fully get."
   ],
   "metadata": {}
  },
  {
   "cell_type": "code",
   "execution_count": 2,
   "source": [
    "url_get.content[:500]"
   ],
   "outputs": [
    {
     "output_type": "execute_result",
     "data": {
      "text/plain": [
       "b'<!DOCTYPE html>\\n<html lang=\"en\">\\n<head>\\n<meta charset=\"utf-8\">\\n<meta http-equiv=\"X-UA-Compatible\" content=\"IE=edge\">\\n<script>window.NREUM||(NREUM={});NREUM.info={\"beacon\":\"bam-cell.nr-data.net\",\"errorBeacon\":\"bam-cell.nr-data.net\",\"licenseKey\":\"cd4a6493ab\",\"applicationID\":\"83495717\",\"transactionName\":\"dV5dRBNcDlkEEU5SDF9fQB8JWhFBDhEIUgJabldRFVI=\",\"queueTime\":0,\"applicationTime\":221,\"agent\":\"\"}</script>\\n<script>(window.NREUM||(NREUM={})).loader_config={xpid:\"VQ4EVVBUCBAIV1VbAgYGUQ==\",licenseKey:\"'"
      ]
     },
     "metadata": {},
     "execution_count": 2
    }
   ],
   "metadata": {
    "ExecuteTime": {
     "end_time": "2020-01-13T05:12:23.290648Z",
     "start_time": "2020-01-13T05:12:23.277650Z"
    }
   }
  },
  {
   "cell_type": "markdown",
   "source": [
    "As we can see we get a very unstructured and complex html, which actually contains the codes needed to show the webpages on your web browser. But we as human still confused what and where we can use that piece of code, so here where we use the beautifulsoup. Beautiful soup class will result a beautifulsoup object. Beautiful Soup transforms a complex HTML document into a complex tree of Python objects. \n",
    "\n",
    "Let's make Beautiful soup object and feel free to explore the object here."
   ],
   "metadata": {}
  },
  {
   "cell_type": "code",
   "execution_count": 3,
   "source": [
    "# Import BeautifulSoup library\r\n",
    "from bs4 import BeautifulSoup \r\n",
    "\r\n",
    "# Parse data from url\r\n",
    "soup = BeautifulSoup(url_get.content,\"html.parser\")"
   ],
   "outputs": [],
   "metadata": {
    "ExecuteTime": {
     "end_time": "2020-01-13T05:12:23.808122Z",
     "start_time": "2020-01-13T05:12:23.292610Z"
    }
   }
  },
  {
   "cell_type": "markdown",
   "source": [
    "## Finding the right key to scrap the data & Extracting the right information"
   ],
   "metadata": {}
  },
  {
   "cell_type": "markdown",
   "source": [
    "Find the key and put the key into the `.find()` Put all the exploring the right key at this cell. (please change this markdown with your explanation)"
   ],
   "metadata": {}
  },
  {
   "cell_type": "code",
   "execution_count": 4,
   "source": [
    "table = soup.find('tbody')\r\n",
    "print(table.prettify()[:500])"
   ],
   "outputs": [
    {
     "output_type": "stream",
     "name": "stdout",
     "text": [
      "<tbody>\n",
      " <tr>\n",
      "  <th class=\"font-semibold text-center\" scope=\"row\">\n",
      "   2021-06-30\n",
      "  </th>\n",
      "  <td class=\"text-center\">\n",
      "   $253,607,549,372\n",
      "  </td>\n",
      "  <td class=\"text-center\">\n",
      "   $27,149,143,847\n",
      "  </td>\n",
      "  <td class=\"text-center\">\n",
      "   $2,169.40\n",
      "  </td>\n",
      "  <td class=\"text-center\">\n",
      "   N/A\n",
      "  </td>\n",
      " </tr>\n",
      " <tr>\n",
      "  <th class=\"font-semibold text-center\" scope=\"row\">\n",
      "   2021-06-29\n",
      "  </th>\n",
      "  <td class=\"text-center\">\n",
      "   $243,040,539,437\n",
      "  </td>\n",
      "  <td class=\"text-center\">\n",
      "   $30,629,329,806\n",
      "  </td>\n",
      "  <td class=\"te\n"
     ]
    }
   ],
   "metadata": {
    "ExecuteTime": {
     "end_time": "2020-01-13T05:12:23.878904Z",
     "start_time": "2020-01-13T05:12:23.854974Z"
    }
   }
  },
  {
   "cell_type": "markdown",
   "source": [
    "Do the scrapping process here (please change this markdown with your explanation)"
   ],
   "metadata": {}
  },
  {
   "cell_type": "code",
   "execution_count": 5,
   "source": [
    "items = table.find_all('tr')\r\n",
    "\r\n",
    "# Initiating a tuple as container\r\n",
    "temp = []\r\n",
    "\r\n",
    "for i in range(0, len(items)):\r\n",
    "    \r\n",
    "    # Scrapping process\r\n",
    "    item = items[i]\r\n",
    "    date = item.find('th').text.strip()\r\n",
    "    market_cap = item.find_all('td')[0].text.strip().replace('$', '').replace(',','')\r\n",
    "    volume = item.find_all('td')[1].text.strip().replace('$', '').replace(',','')\r\n",
    "    open = item.find_all('td')[2].text.strip().replace('$', '').replace(',','')\r\n",
    "    close = item.find_all('td')[3].text.strip().replace('$', '').replace(',','')\r\n",
    "    \r\n",
    "    # Store every data in temp\r\n",
    "    temp.append((date, market_cap, volume, open, close)) "
   ],
   "outputs": [],
   "metadata": {
    "ExecuteTime": {
     "end_time": "2020-01-13T05:12:24.008256Z",
     "start_time": "2020-01-13T05:12:23.980358Z"
    }
   }
  },
  {
   "cell_type": "code",
   "execution_count": 6,
   "source": [
    "# Validate temp\r\n",
    "\r\n",
    "# temp[:5]\r\n",
    "temp[-5:]"
   ],
   "outputs": [
    {
     "output_type": "execute_result",
     "data": {
      "text/plain": [
       "[('2020-01-05', '14636213160', '6958393690', '134.14', '135.01'),\n",
       " ('2020-01-04', '14613194776', '9655245100', '133.70', '134.14'),\n",
       " ('2020-01-03', '13859793330', '6497297884', '127.05', '133.70'),\n",
       " ('2020-01-02', '14230588104', '6623732041', '130.48', '127.05'),\n",
       " ('2020-01-01', '14097451632', '7103187151', '129.19', '130.48')]"
      ]
     },
     "metadata": {},
     "execution_count": 6
    }
   ],
   "metadata": {}
  },
  {
   "cell_type": "markdown",
   "source": [
    "Since we know that 'Date' is ordered in ascending, we want to change the order to descending to make it easier to understand"
   ],
   "metadata": {}
  },
  {
   "cell_type": "code",
   "execution_count": 7,
   "source": [
    "temp = temp[::-1]"
   ],
   "outputs": [],
   "metadata": {}
  },
  {
   "cell_type": "markdown",
   "source": [
    "## Creating data frame & Data wrangling"
   ],
   "metadata": {}
  },
  {
   "cell_type": "markdown",
   "source": [
    "Put the array into dataframe"
   ],
   "metadata": {}
  },
  {
   "cell_type": "code",
   "execution_count": 32,
   "source": [
    "# Import pandas library\r\n",
    "import pandas as pd\r\n",
    "\r\n",
    "# Create dataframe from temp\r\n",
    "df = pd.DataFrame(temp, columns=('Date', 'Market Cap', 'Volume', 'Open', 'Close'))"
   ],
   "outputs": [],
   "metadata": {
    "ExecuteTime": {
     "end_time": "2020-01-13T05:12:41.517372Z",
     "start_time": "2020-01-13T05:12:29.130015Z"
    }
   }
  },
  {
   "cell_type": "code",
   "execution_count": 33,
   "source": [
    "# Validate dataframe\r\n",
    "\r\n",
    "# df.head()\r\n",
    "df.tail()"
   ],
   "outputs": [
    {
     "output_type": "execute_result",
     "data": {
      "text/plain": [
       "           Date    Market Cap       Volume     Open    Close\n",
       "542  2021-06-26  213871849532  25981381067  1833.46  1817.05\n",
       "543  2021-06-27  209989265221  24249510321  1817.05  1973.93\n",
       "544  2021-06-28  229354016311  24316408028  1973.93  2087.52\n",
       "545  2021-06-29  243040539437  30629329806  2087.52  2169.40\n",
       "546  2021-06-30  253607549372  27149143847  2169.40      N/A"
      ],
      "text/html": [
       "<div>\n",
       "<style scoped>\n",
       "    .dataframe tbody tr th:only-of-type {\n",
       "        vertical-align: middle;\n",
       "    }\n",
       "\n",
       "    .dataframe tbody tr th {\n",
       "        vertical-align: top;\n",
       "    }\n",
       "\n",
       "    .dataframe thead th {\n",
       "        text-align: right;\n",
       "    }\n",
       "</style>\n",
       "<table border=\"1\" class=\"dataframe\">\n",
       "  <thead>\n",
       "    <tr style=\"text-align: right;\">\n",
       "      <th></th>\n",
       "      <th>Date</th>\n",
       "      <th>Market Cap</th>\n",
       "      <th>Volume</th>\n",
       "      <th>Open</th>\n",
       "      <th>Close</th>\n",
       "    </tr>\n",
       "  </thead>\n",
       "  <tbody>\n",
       "    <tr>\n",
       "      <th>542</th>\n",
       "      <td>2021-06-26</td>\n",
       "      <td>213871849532</td>\n",
       "      <td>25981381067</td>\n",
       "      <td>1833.46</td>\n",
       "      <td>1817.05</td>\n",
       "    </tr>\n",
       "    <tr>\n",
       "      <th>543</th>\n",
       "      <td>2021-06-27</td>\n",
       "      <td>209989265221</td>\n",
       "      <td>24249510321</td>\n",
       "      <td>1817.05</td>\n",
       "      <td>1973.93</td>\n",
       "    </tr>\n",
       "    <tr>\n",
       "      <th>544</th>\n",
       "      <td>2021-06-28</td>\n",
       "      <td>229354016311</td>\n",
       "      <td>24316408028</td>\n",
       "      <td>1973.93</td>\n",
       "      <td>2087.52</td>\n",
       "    </tr>\n",
       "    <tr>\n",
       "      <th>545</th>\n",
       "      <td>2021-06-29</td>\n",
       "      <td>243040539437</td>\n",
       "      <td>30629329806</td>\n",
       "      <td>2087.52</td>\n",
       "      <td>2169.40</td>\n",
       "    </tr>\n",
       "    <tr>\n",
       "      <th>546</th>\n",
       "      <td>2021-06-30</td>\n",
       "      <td>253607549372</td>\n",
       "      <td>27149143847</td>\n",
       "      <td>2169.40</td>\n",
       "      <td>N/A</td>\n",
       "    </tr>\n",
       "  </tbody>\n",
       "</table>\n",
       "</div>"
      ]
     },
     "metadata": {},
     "execution_count": 33
    }
   ],
   "metadata": {}
  },
  {
   "cell_type": "markdown",
   "source": [
    "Do the data cleaning here (please change this markdown with your explanation of what you do for data wrangling)"
   ],
   "metadata": {}
  },
  {
   "cell_type": "markdown",
   "source": [
    "Check 'N/A' value in df"
   ],
   "metadata": {}
  },
  {
   "cell_type": "code",
   "execution_count": 34,
   "source": [
    "df.isna().sum()"
   ],
   "outputs": [
    {
     "output_type": "execute_result",
     "data": {
      "text/plain": [
       "Date          0\n",
       "Market Cap    0\n",
       "Volume        0\n",
       "Open          0\n",
       "Close         0\n",
       "dtype: int64"
      ]
     },
     "metadata": {},
     "execution_count": 34
    }
   ],
   "metadata": {}
  },
  {
   "cell_type": "markdown",
   "source": [
    "We already know that first data in 'Open' is 'N/A', but while we check with <code>isna().sum()</code> there is no <code>'N/A'</code> value. This means, 'N/A' here is not <code>N/A</code> value, but <code>str</code> value. So we need to change every 'N/A' with 0 (null)."
   ],
   "metadata": {}
  },
  {
   "cell_type": "code",
   "execution_count": 35,
   "source": [
    "df.replace({'N/A':int('0')}, inplace=True)"
   ],
   "outputs": [],
   "metadata": {
    "ExecuteTime": {
     "end_time": "2020-01-13T05:12:59.165559Z",
     "start_time": "2020-01-13T05:12:58.910012Z"
    }
   }
  },
  {
   "cell_type": "markdown",
   "source": [
    "Check data type for each columns"
   ],
   "metadata": {}
  },
  {
   "cell_type": "code",
   "execution_count": 36,
   "source": [
    "df.dtypes"
   ],
   "outputs": [
    {
     "output_type": "execute_result",
     "data": {
      "text/plain": [
       "Date          object\n",
       "Market Cap    object\n",
       "Volume        object\n",
       "Open          object\n",
       "Close         object\n",
       "dtype: object"
      ]
     },
     "metadata": {},
     "execution_count": 36
    }
   ],
   "metadata": {}
  },
  {
   "cell_type": "markdown",
   "source": [
    "Currently, the type of all columns is <code>object</code>. We must change the data type accordingly, 'Date' must <code>datetime64</code> and others must <code>float64</code>"
   ],
   "metadata": {}
  },
  {
   "cell_type": "code",
   "execution_count": 37,
   "source": [
    "df['Date'] = df['Date'].astype('datetime64')\r\n",
    "df[['Market Cap', 'Volume', 'Open', 'Close']] = df[['Market Cap', 'Volume', 'Open', 'Close']].astype('float')\r\n",
    "df.dtypes"
   ],
   "outputs": [
    {
     "output_type": "execute_result",
     "data": {
      "text/plain": [
       "Date          datetime64[ns]\n",
       "Market Cap           float64\n",
       "Volume               float64\n",
       "Open                 float64\n",
       "Close                float64\n",
       "dtype: object"
      ]
     },
     "metadata": {},
     "execution_count": 37
    }
   ],
   "metadata": {}
  },
  {
   "cell_type": "markdown",
   "source": [
    "### Implementing your webscrapping to the flask dashboard\n",
    "\n",
    "- Copy paste all of your web scrapping process to the desired position on the `app.py`\n",
    "- Changing the title of the dasboard at `index.html`"
   ],
   "metadata": {}
  },
  {
   "cell_type": "markdown",
   "source": [
    "## Finishing This Notebook with Your Analysis and Conclusion\n",
    "\n",
    "First you can do start with making the data visualisation. "
   ],
   "metadata": {}
  },
  {
   "cell_type": "markdown",
   "source": [
    "Data visualisation (please change this markdown with your explanation of what you do for data wrangling)"
   ],
   "metadata": {}
  },
  {
   "cell_type": "markdown",
   "source": [
    "Since we want to visualize the movement of 'Volume' over time, we need to set 'Date' as index"
   ],
   "metadata": {}
  },
  {
   "cell_type": "code",
   "execution_count": 38,
   "source": [
    "df = df.set_index('Date')"
   ],
   "outputs": [],
   "metadata": {}
  },
  {
   "cell_type": "markdown",
   "source": [
    "Visualize 'Volume' movement in line graph"
   ],
   "metadata": {}
  },
  {
   "cell_type": "code",
   "execution_count": 39,
   "source": [
    "df['Volume'].plot.line()"
   ],
   "outputs": [
    {
     "output_type": "execute_result",
     "data": {
      "text/plain": [
       "<AxesSubplot:xlabel='Date'>"
      ]
     },
     "metadata": {},
     "execution_count": 39
    },
    {
     "output_type": "display_data",
     "data": {
      "text/plain": [
       "<Figure size 432x288 with 1 Axes>"
      ],
      "image/png": "[encoded data removed]"
     },
     "metadata": {
      "needs_background": "light"
     }
    }
   ],
   "metadata": {}
  },
  {
   "cell_type": "code",
   "execution_count": 40,
   "source": [
    "df.describe()"
   ],
   "outputs": [
    {
     "output_type": "execute_result",
     "data": {
      "text/plain": [
       "         Market Cap        Volume         Open        Close\n",
       "count  5.470000e+02  5.470000e+02   547.000000   547.000000\n",
       "mean   1.018994e+11  2.244515e+10   888.237367   888.001188\n",
       "std    1.081609e+11  1.812490e+10   930.603914   930.813277\n",
       "min    1.195663e+10  4.344880e+09   110.600000     0.000000\n",
       "25%    2.522716e+10  1.040704e+10   227.845000   227.845000\n",
       "50%    4.369277e+10  1.503386e+10   387.720000   387.720000\n",
       "75%    1.824718e+11  3.094427e+10  1580.530000  1580.530000\n",
       "max    4.813810e+11  1.409065e+11  4182.790000  4182.790000"
      ],
      "text/html": [
       "<div>\n",
       "<style scoped>\n",
       "    .dataframe tbody tr th:only-of-type {\n",
       "        vertical-align: middle;\n",
       "    }\n",
       "\n",
       "    .dataframe tbody tr th {\n",
       "        vertical-align: top;\n",
       "    }\n",
       "\n",
       "    .dataframe thead th {\n",
       "        text-align: right;\n",
       "    }\n",
       "</style>\n",
       "<table border=\"1\" class=\"dataframe\">\n",
       "  <thead>\n",
       "    <tr style=\"text-align: right;\">\n",
       "      <th></th>\n",
       "      <th>Market Cap</th>\n",
       "      <th>Volume</th>\n",
       "      <th>Open</th>\n",
       "      <th>Close</th>\n",
       "    </tr>\n",
       "  </thead>\n",
       "  <tbody>\n",
       "    <tr>\n",
       "      <th>count</th>\n",
       "      <td>5.470000e+02</td>\n",
       "      <td>5.470000e+02</td>\n",
       "      <td>547.000000</td>\n",
       "      <td>547.000000</td>\n",
       "    </tr>\n",
       "    <tr>\n",
       "      <th>mean</th>\n",
       "      <td>1.018994e+11</td>\n",
       "      <td>2.244515e+10</td>\n",
       "      <td>888.237367</td>\n",
       "      <td>888.001188</td>\n",
       "    </tr>\n",
       "    <tr>\n",
       "      <th>std</th>\n",
       "      <td>1.081609e+11</td>\n",
       "      <td>1.812490e+10</td>\n",
       "      <td>930.603914</td>\n",
       "      <td>930.813277</td>\n",
       "    </tr>\n",
       "    <tr>\n",
       "      <th>min</th>\n",
       "      <td>1.195663e+10</td>\n",
       "      <td>4.344880e+09</td>\n",
       "      <td>110.600000</td>\n",
       "      <td>0.000000</td>\n",
       "    </tr>\n",
       "    <tr>\n",
       "      <th>25%</th>\n",
       "      <td>2.522716e+10</td>\n",
       "      <td>1.040704e+10</td>\n",
       "      <td>227.845000</td>\n",
       "      <td>227.845000</td>\n",
       "    </tr>\n",
       "    <tr>\n",
       "      <th>50%</th>\n",
       "      <td>4.369277e+10</td>\n",
       "      <td>1.503386e+10</td>\n",
       "      <td>387.720000</td>\n",
       "      <td>387.720000</td>\n",
       "    </tr>\n",
       "    <tr>\n",
       "      <th>75%</th>\n",
       "      <td>1.824718e+11</td>\n",
       "      <td>3.094427e+10</td>\n",
       "      <td>1580.530000</td>\n",
       "      <td>1580.530000</td>\n",
       "    </tr>\n",
       "    <tr>\n",
       "      <th>max</th>\n",
       "      <td>4.813810e+11</td>\n",
       "      <td>1.409065e+11</td>\n",
       "      <td>4182.790000</td>\n",
       "      <td>4182.790000</td>\n",
       "    </tr>\n",
       "  </tbody>\n",
       "</table>\n",
       "</div>"
      ]
     },
     "metadata": {},
     "execution_count": 40
    }
   ],
   "metadata": {}
  },
  {
   "cell_type": "code",
   "execution_count": 41,
   "source": [
    "df[df['Volume'] == df['Volume'].min()]"
   ],
   "outputs": [
    {
     "output_type": "execute_result",
     "data": {
      "text/plain": [
       "              Market Cap        Volume    Open   Close\n",
       "Date                                                  \n",
       "2020-07-18  2.601517e+10  4.344880e+09  232.78  235.68"
      ],
      "text/html": [
       "<div>\n",
       "<style scoped>\n",
       "    .dataframe tbody tr th:only-of-type {\n",
       "        vertical-align: middle;\n",
       "    }\n",
       "\n",
       "    .dataframe tbody tr th {\n",
       "        vertical-align: top;\n",
       "    }\n",
       "\n",
       "    .dataframe thead th {\n",
       "        text-align: right;\n",
       "    }\n",
       "</style>\n",
       "<table border=\"1\" class=\"dataframe\">\n",
       "  <thead>\n",
       "    <tr style=\"text-align: right;\">\n",
       "      <th></th>\n",
       "      <th>Market Cap</th>\n",
       "      <th>Volume</th>\n",
       "      <th>Open</th>\n",
       "      <th>Close</th>\n",
       "    </tr>\n",
       "    <tr>\n",
       "      <th>Date</th>\n",
       "      <th></th>\n",
       "      <th></th>\n",
       "      <th></th>\n",
       "      <th></th>\n",
       "    </tr>\n",
       "  </thead>\n",
       "  <tbody>\n",
       "    <tr>\n",
       "      <th>2020-07-18</th>\n",
       "      <td>2.601517e+10</td>\n",
       "      <td>4.344880e+09</td>\n",
       "      <td>232.78</td>\n",
       "      <td>235.68</td>\n",
       "    </tr>\n",
       "  </tbody>\n",
       "</table>\n",
       "</div>"
      ]
     },
     "metadata": {},
     "execution_count": 41
    }
   ],
   "metadata": {}
  },
  {
   "cell_type": "code",
   "execution_count": 42,
   "source": [
    "df[df['Volume'] == df['Volume'].max()]"
   ],
   "outputs": [
    {
     "output_type": "execute_result",
     "data": {
      "text/plain": [
       "              Market Cap        Volume   Open    Close\n",
       "Date                                                  \n",
       "2021-01-04  1.125254e+11  1.409065e+11  967.0  1025.65"
      ],
      "text/html": [
       "<div>\n",
       "<style scoped>\n",
       "    .dataframe tbody tr th:only-of-type {\n",
       "        vertical-align: middle;\n",
       "    }\n",
       "\n",
       "    .dataframe tbody tr th {\n",
       "        vertical-align: top;\n",
       "    }\n",
       "\n",
       "    .dataframe thead th {\n",
       "        text-align: right;\n",
       "    }\n",
       "</style>\n",
       "<table border=\"1\" class=\"dataframe\">\n",
       "  <thead>\n",
       "    <tr style=\"text-align: right;\">\n",
       "      <th></th>\n",
       "      <th>Market Cap</th>\n",
       "      <th>Volume</th>\n",
       "      <th>Open</th>\n",
       "      <th>Close</th>\n",
       "    </tr>\n",
       "    <tr>\n",
       "      <th>Date</th>\n",
       "      <th></th>\n",
       "      <th></th>\n",
       "      <th></th>\n",
       "      <th></th>\n",
       "    </tr>\n",
       "  </thead>\n",
       "  <tbody>\n",
       "    <tr>\n",
       "      <th>2021-01-04</th>\n",
       "      <td>1.125254e+11</td>\n",
       "      <td>1.409065e+11</td>\n",
       "      <td>967.0</td>\n",
       "      <td>1025.65</td>\n",
       "    </tr>\n",
       "  </tbody>\n",
       "</table>\n",
       "</div>"
      ]
     },
     "metadata": {},
     "execution_count": 42
    }
   ],
   "metadata": {}
  },
  {
   "cell_type": "code",
   "execution_count": 43,
   "source": [
    "df = df.reset_index()\r\n",
    "df['Year'] = df['Date'].dt.to_period('Y')\r\n",
    "df.groupby(by='Year')['Volume'].sum()"
   ],
   "outputs": [
    {
     "output_type": "execute_result",
     "data": {
      "text/plain": [
       "Year\n",
       "2020    4.755115e+12\n",
       "2021    7.522383e+12\n",
       "Freq: A-DEC, Name: Volume, dtype: float64"
      ]
     },
     "metadata": {},
     "execution_count": 43
    }
   ],
   "metadata": {}
  },
  {
   "cell_type": "markdown",
   "source": [
    "**Analysis**\r\n",
    "<p>Generally Ethereum trading volume is increased in 2021 compared to 2020, there khown from the amount of trading volume. Throughout 2020, total amounts of volume trading is 4.755 trillion, while in 2021, just until July, total amounts of volume trading is 7.495 trillion.  In the period February 2020-July 2020, the trade volume Ethereum generally decreased until reached its lowest point in 18th July 2020 at $4.34 billion. Trading volume increased again at August 2020. Trading volume reached its highest point in 4nd January 2021 at $140.9 billion, after that trading volume decreased again until April 2021, then increased again until May 2021, lastly decreased again until July 2021. Average trading volume are $22.43 billion"
   ],
   "metadata": {}
  },
  {
   "cell_type": "markdown",
   "source": [
    "### Extra Challange\n",
    "\n",
    "This will be not included to the scoring. \n",
    "\n",
    "- You can create additional analysis from the data.\n",
    "- Implement it to the dashboard with at `app.py` dan `index.html`."
   ],
   "metadata": {}
  }
 ],
 "metadata": {
  "kernelspec": {
   "display_name": "Python 3.6.2 64-bit",
   "language": "python",
   "name": "python36264bitb260ea48fbef4f3fb588ec02faca0720"
  },
  "language_info": {
   "codemirror_mode": {
    "name": "ipython",
    "version": 3
   },
   "file_extension": ".py",
   "mimetype": "text/x-python",
   "name": "python",
   "nbconvert_exporter": "python",
   "pygments_lexer": "ipython3",
   "version": "3.6.2"
  }
 },
 "nbformat": 4,
 "nbformat_minor": 2
}